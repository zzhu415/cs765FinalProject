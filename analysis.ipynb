{
 "cells": [
  {
   "cell_type": "code",
   "execution_count": 47,
   "metadata": {},
   "outputs": [],
   "source": [
    "import pandas as pd\n",
    "import numpy as np\n",
    "from sklearn.decomposition import PCA\n",
    "import matplotlib.pyplot as plot\n",
    "from sklearn.preprocessing import StandardScaler"
   ]
  },
  {
   "cell_type": "markdown",
   "metadata": {},
   "source": [
    "<h1> part 1 from email </h1>\n",
    "<h2> determine which features contribute to the components </h2>"
   ]
  },
  {
   "cell_type": "code",
   "execution_count": 48,
   "metadata": {},
   "outputs": [],
   "source": [
    "# Data import\n",
    "df=pd.read_csv('atussum_1921-reduced.csv')\n"
   ]
  },
  {
   "cell_type": "code",
   "execution_count": 49,
   "metadata": {},
   "outputs": [],
   "source": [
    "# Create feature list and target\n",
    "features = []\n",
    "for i in range(1,17):\n",
    "    features.append('t%02d'%i)\n",
    "\n",
    "features.append('t18')\n",
    "features.append('t50')\n",
    "\n",
    "target = ['TESEX']"
   ]
  },
  {
   "cell_type": "code",
   "execution_count": 50,
   "metadata": {},
   "outputs": [],
   "source": [
    "# Data preprocessing\n",
    "# rows for 2019\n",
    "df_19 = df[df['TUYEAR'] == 2019]\n",
    "# rows for 2021\n",
    "df_21 = df[df['TUYEAR'] == 2021]\n",
    "\n",
    "# selecting cols that only contains the feature\n",
    "x_19 = df_19.loc[:, features]\n",
    "x_21 = df_21.loc[:,features]\n",
    "# normaliza x data returned nparray\n",
    "x_19_scaled = StandardScaler().fit_transform(x_19.values)\n",
    "x_21_scaled = StandardScaler().fit_transform(x_21.values)\n",
    "# reassemble nparray back to dataframe\n",
    "x_19_df = pd.DataFrame(x_19_scaled,index=x_19.index, columns=x_19.columns)\n",
    "x_21_df = pd.DataFrame(x_21_scaled,index=x_21.index, columns=x_21.columns)\n",
    "\n",
    "# selecting target TODO \n",
    "y = df.loc[:,target].values"
   ]
  },
  {
   "cell_type": "code",
   "execution_count": 51,
   "metadata": {},
   "outputs": [
    {
     "name": "stdout",
     "output_type": "stream",
     "text": [
      "[0.43633019 0.21009205]\n",
      "[0.44347902 0.2161825 ]\n"
     ]
    }
   ],
   "source": [
    "# Perfrom pca\n",
    "pca = PCA(n_components=2)\n",
    "pca_2 = PCA(n_components=2)\n",
    "\n",
    "# 2019\n",
    "pca_19 = pca.fit_transform(x_19)\n",
    "print(pca.explained_variance_ratio_)\n",
    "pca_19_df = pd.DataFrame(data = pca_19\n",
    "             , columns = ['principal component 1', 'principal component 2'])\n",
    "# 2021\n",
    "pca_21 = pca_2.fit_transform(x_21)\n",
    "print(pca_2.explained_variance_ratio_)\n",
    "pca_21_df = pd.DataFrame(data = pca_21\n",
    "             , columns = ['principal component 1', 'principal component 2'])"
   ]
  },
  {
   "cell_type": "code",
   "execution_count": 58,
   "metadata": {},
   "outputs": [],
   "source": [
    "# Analysis results from pca\n",
    "dataset_pca_19 = pd.DataFrame(abs(pca.components_),columns=x_19_df.columns,index=['PC_1', 'PC_2'])\n",
    "dataset_pca_21 = pd.DataFrame(abs(pca_2.components_),columns=x_21_df.columns,index=['PC_1', 'PC_2'])"
   ]
  },
  {
   "cell_type": "markdown",
   "metadata": {},
   "source": [
    "<h2> year 2019 </h2>"
   ]
  },
  {
   "cell_type": "code",
   "execution_count": 61,
   "metadata": {},
   "outputs": [
    {
     "name": "stdout",
     "output_type": "stream",
     "text": [
      "\n",
      "*************** Most important features *************************\n",
      "As per PC 1:\n",
      " t05    0.767699\n",
      "t12    0.625132\n",
      "Name: PC_1, dtype: float64\n",
      "\n",
      "\n",
      "As per PC 2:\n",
      " t01    0.356535\n",
      "t02    0.411126\n",
      "t05    0.470627\n",
      "t12    0.681885\n",
      "Name: PC_2, dtype: float64\n",
      "\n",
      "******************************************************************\n"
     ]
    }
   ],
   "source": [
    "# Filter out the feature has higher impact to the component with threshold 0.3\n",
    "print(\"\\n*************** Most important features *************************\")\n",
    "print('As per PC 1:\\n', (dataset_pca_19[dataset_pca_19 > 0.3].iloc[0]).dropna())   \n",
    "print('\\n\\nAs per PC 2:\\n', (dataset_pca_19[dataset_pca_19 > 0.3].iloc[1]).dropna())\n",
    "print(\"\\n******************************************************************\")"
   ]
  },
  {
   "cell_type": "markdown",
   "metadata": {},
   "source": [
    "<h2> year 2021 </h2>"
   ]
  },
  {
   "cell_type": "code",
   "execution_count": 62,
   "metadata": {},
   "outputs": [
    {
     "name": "stdout",
     "output_type": "stream",
     "text": [
      "\n",
      "*************** Most important features *************************\n",
      "As per PC 1:\n",
      " t05    0.773376\n",
      "t12    0.620138\n",
      "Name: PC_1, dtype: float64\n",
      "\n",
      "\n",
      "As per PC 2:\n",
      " t01    0.301223\n",
      "t02    0.472248\n",
      "t05    0.460071\n",
      "t12    0.676540\n",
      "Name: PC_2, dtype: float64\n",
      "\n",
      "******************************************************************\n"
     ]
    }
   ],
   "source": [
    "# Filter out the feature has higher impact to the component with threshold 0.3\n",
    "print(\"\\n*************** Most important features *************************\")\n",
    "print('As per PC 1:\\n', (dataset_pca_21[dataset_pca_21 > 0.3].iloc[0]).dropna())   \n",
    "print('\\n\\nAs per PC 2:\\n', (dataset_pca_21[dataset_pca_21 > 0.3].iloc[1]).dropna())\n",
    "print(\"\\n******************************************************************\")"
   ]
  },
  {
   "cell_type": "code",
   "execution_count": null,
   "metadata": {},
   "outputs": [],
   "source": []
  }
 ],
 "metadata": {
  "kernelspec": {
   "display_name": "Python 3.9.12 ('misc')",
   "language": "python",
   "name": "python3"
  },
  "language_info": {
   "codemirror_mode": {
    "name": "ipython",
    "version": 3
   },
   "file_extension": ".py",
   "mimetype": "text/x-python",
   "name": "python",
   "nbconvert_exporter": "python",
   "pygments_lexer": "ipython3",
   "version": "3.9.12"
  },
  "orig_nbformat": 4,
  "vscode": {
   "interpreter": {
    "hash": "7249968e535cdc2c7c6beca6a6497aef5943e1cb7d6e1454e2303dd0759fb3e1"
   }
  }
 },
 "nbformat": 4,
 "nbformat_minor": 2
}
