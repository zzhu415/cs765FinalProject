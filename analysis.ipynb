{
 "cells": [
  {
   "cell_type": "code",
   "execution_count": 1,
   "metadata": {},
   "outputs": [],
   "source": [
    "import pandas as pd\n",
    "import numpy as np\n",
    "from sklearn.decomposition import PCA\n",
    "import matplotlib.pyplot as plot\n",
    "from sklearn.preprocessing import StandardScaler\n",
    "from sklearn.model_selection import ParameterGrid\n",
    "from sklearn.cluster import KMeans\n",
    "from sklearn import metrics"
   ]
  },
  {
   "cell_type": "markdown",
   "metadata": {},
   "source": [
    "<h1> part 1 from email </h1>\n",
    "<h2> determine which features contribute to the components </h2>"
   ]
  },
  {
   "cell_type": "code",
   "execution_count": 2,
   "metadata": {},
   "outputs": [],
   "source": [
    "# Data import\n",
    "df=pd.read_csv('atussum_1921-reduced.csv')\n"
   ]
  },
  {
   "cell_type": "code",
   "execution_count": 3,
   "metadata": {},
   "outputs": [],
   "source": [
    "# Create feature list and target\n",
    "features = []\n",
    "for i in range(1,17):\n",
    "    features.append('t%02d'%i)\n",
    "\n",
    "features.append('t18')\n",
    "features.append('t50')\n",
    "\n",
    "target = ['TESEX']"
   ]
  },
  {
   "cell_type": "code",
   "execution_count": 4,
   "metadata": {},
   "outputs": [],
   "source": [
    "# Data preprocessing\n",
    "# rows for 2019\n",
    "df_19 = df[df['TUYEAR'] == 2019]\n",
    "# rows for 2021\n",
    "df_21 = df[df['TUYEAR'] == 2021]\n",
    "\n",
    "# selecting cols that only contains the feature\n",
    "x_19 = dataset_pca_19.loc[:, features]\n",
    "x_21 = df_21.loc[:, features]\n",
    "# normaliza x data returned nparray\n",
    "x_19_scaled = StandardScaler().fit_transform(x_19.values)\n",
    "x_21_scaled = StandardScaler().fit_transform(x_21.values)\n",
    "# reassemble nparray back to dataframe\n",
    "x_19_df = pd.DataFrame(x_19_scaled,index=x_19.index, columns=x_19.columns)\n",
    "x_21_df = pd.DataFrame(x_21_scaled,index=x_21.index, columns=x_21.columns)\n",
    "\n",
    "# selecting target TODO \n",
    "y = df.loc[:,target].values\n",
    "\n",
    "# Deleting original df because we don't need it anymore\n",
    "del df"
   ]
  },
  {
   "cell_type": "code",
   "execution_count": 5,
   "metadata": {},
   "outputs": [
    {
     "name": "stdout",
     "output_type": "stream",
     "text": [
      "[0.43633019 0.21009205]\n",
      "[0.44347902 0.2161825 ]\n"
     ]
    }
   ],
   "source": [
    "# Perfrom pca\n",
    "pca = PCA(n_components=2)\n",
    "pca_2 = PCA(n_components=2)\n",
    "\n",
    "# 2019\n",
    "pca_19 = pca.fit_transform(x_19)\n",
    "print(pca.explained_variance_ratio_)\n",
    "pca_19_df = pd.DataFrame(data = pca_19\n",
    "             , columns = ['principal component 1', 'principal component 2'])\n",
    "# 2021\n",
    "pca_21 = pca_2.fit_transform(x_21)\n",
    "print(pca_2.explained_variance_ratio_)\n",
    "pca_21_df = pd.DataFrame(data = pca_21\n",
    "             , columns = ['principal component 1', 'principal component 2'])"
   ]
  },
  {
   "cell_type": "code",
   "execution_count": 6,
   "metadata": {},
   "outputs": [],
   "source": [
    "# Analysis results from pca\n",
    "dataset_pca_19 = pd.DataFrame(abs(pca.components_),columns=x_19_df.columns,index=['PC_1', 'PC_2'])\n",
    "dataset_pca_21 = pd.DataFrame(abs(pca_2.components_),columns=x_21_df.columns,index=['PC_1', 'PC_2'])"
   ]
  },
  {
   "cell_type": "code",
   "execution_count": 27,
   "metadata": {},
   "outputs": [
    {
     "data": {
      "text/html": [
       "<div>\n",
       "<style scoped>\n",
       "    .dataframe tbody tr th:only-of-type {\n",
       "        vertical-align: middle;\n",
       "    }\n",
       "\n",
       "    .dataframe tbody tr th {\n",
       "        vertical-align: top;\n",
       "    }\n",
       "\n",
       "    .dataframe thead th {\n",
       "        text-align: right;\n",
       "    }\n",
       "</style>\n",
       "<table border=\"1\" class=\"dataframe\">\n",
       "  <thead>\n",
       "    <tr style=\"text-align: right;\">\n",
       "      <th></th>\n",
       "      <th>principal component 1</th>\n",
       "      <th>principal component 2</th>\n",
       "    </tr>\n",
       "  </thead>\n",
       "  <tbody>\n",
       "    <tr>\n",
       "      <th>0</th>\n",
       "      <td>-188.953601</td>\n",
       "      <td>18.203565</td>\n",
       "    </tr>\n",
       "    <tr>\n",
       "      <th>1</th>\n",
       "      <td>-462.199758</td>\n",
       "      <td>386.719579</td>\n",
       "    </tr>\n",
       "    <tr>\n",
       "      <th>2</th>\n",
       "      <td>183.803379</td>\n",
       "      <td>121.937684</td>\n",
       "    </tr>\n",
       "    <tr>\n",
       "      <th>3</th>\n",
       "      <td>50.718086</td>\n",
       "      <td>-195.398833</td>\n",
       "    </tr>\n",
       "    <tr>\n",
       "      <th>4</th>\n",
       "      <td>-208.311943</td>\n",
       "      <td>223.260828</td>\n",
       "    </tr>\n",
       "    <tr>\n",
       "      <th>...</th>\n",
       "      <td>...</td>\n",
       "      <td>...</td>\n",
       "    </tr>\n",
       "    <tr>\n",
       "      <th>9430</th>\n",
       "      <td>-174.369710</td>\n",
       "      <td>-115.346519</td>\n",
       "    </tr>\n",
       "    <tr>\n",
       "      <th>9431</th>\n",
       "      <td>-198.976145</td>\n",
       "      <td>-29.336765</td>\n",
       "    </tr>\n",
       "    <tr>\n",
       "      <th>9432</th>\n",
       "      <td>-22.578344</td>\n",
       "      <td>-130.283560</td>\n",
       "    </tr>\n",
       "    <tr>\n",
       "      <th>9433</th>\n",
       "      <td>382.125821</td>\n",
       "      <td>28.195906</td>\n",
       "    </tr>\n",
       "    <tr>\n",
       "      <th>9434</th>\n",
       "      <td>-215.291226</td>\n",
       "      <td>19.015473</td>\n",
       "    </tr>\n",
       "  </tbody>\n",
       "</table>\n",
       "<p>9435 rows × 2 columns</p>\n",
       "</div>"
      ],
      "text/plain": [
       "      principal component 1  principal component 2\n",
       "0               -188.953601              18.203565\n",
       "1               -462.199758             386.719579\n",
       "2                183.803379             121.937684\n",
       "3                 50.718086            -195.398833\n",
       "4               -208.311943             223.260828\n",
       "...                     ...                    ...\n",
       "9430            -174.369710            -115.346519\n",
       "9431            -198.976145             -29.336765\n",
       "9432             -22.578344            -130.283560\n",
       "9433             382.125821              28.195906\n",
       "9434            -215.291226              19.015473\n",
       "\n",
       "[9435 rows x 2 columns]"
      ]
     },
     "execution_count": 27,
     "metadata": {},
     "output_type": "execute_result"
    }
   ],
   "source": [
    "pca_19_df"
   ]
  },
  {
   "cell_type": "markdown",
   "metadata": {},
   "source": [
    "<h2> year 2019 </h2>"
   ]
  },
  {
   "cell_type": "code",
   "execution_count": 7,
   "metadata": {},
   "outputs": [
    {
     "name": "stdout",
     "output_type": "stream",
     "text": [
      "\n",
      "*************** Most important features *************************\n",
      "As per PC 1:\n",
      " t05    0.767699\n",
      "t12    0.625132\n",
      "Name: PC_1, dtype: float64\n",
      "\n",
      "\n",
      "As per PC 2:\n",
      " t01    0.356535\n",
      "t02    0.411126\n",
      "t05    0.470627\n",
      "t12    0.681885\n",
      "Name: PC_2, dtype: float64\n",
      "\n",
      "******************************************************************\n"
     ]
    }
   ],
   "source": [
    "# Filter out the feature has higher impact to the component with threshold 0.3\n",
    "print(\"\\n*************** Most important features *************************\")\n",
    "print('As per PC 1:\\n', (dataset_pca_19[dataset_pca_19 > 0.3].iloc[0]).dropna())   \n",
    "print('\\n\\nAs per PC 2:\\n', (dataset_pca_19[dataset_pca_19 > 0.3].iloc[1]).dropna())\n",
    "print(\"\\n******************************************************************\")"
   ]
  },
  {
   "cell_type": "markdown",
   "metadata": {},
   "source": [
    "<h2> year 2021 </h2>"
   ]
  },
  {
   "cell_type": "code",
   "execution_count": 8,
   "metadata": {},
   "outputs": [
    {
     "name": "stdout",
     "output_type": "stream",
     "text": [
      "\n",
      "*************** Most important features *************************\n",
      "As per PC 1:\n",
      " t05    0.773376\n",
      "t12    0.620138\n",
      "Name: PC_1, dtype: float64\n",
      "\n",
      "\n",
      "As per PC 2:\n",
      " t01    0.301223\n",
      "t02    0.472248\n",
      "t05    0.460071\n",
      "t12    0.676540\n",
      "Name: PC_2, dtype: float64\n",
      "\n",
      "******************************************************************\n"
     ]
    }
   ],
   "source": [
    "# Filter out the feature has higher impact to the component with threshold 0.3\n",
    "print(\"\\n*************** Most important features *************************\")\n",
    "print('As per PC 1:\\n', (dataset_pca_21[dataset_pca_21 > 0.3].iloc[0]).dropna())   \n",
    "print('\\n\\nAs per PC 2:\\n', (dataset_pca_21[dataset_pca_21 > 0.3].iloc[1]).dropna())\n",
    "print(\"\\n******************************************************************\")"
   ]
  },
  {
   "cell_type": "markdown",
   "metadata": {},
   "source": [
    "Selecting no of clusters based on silhoutte score method "
   ]
  },
  {
   "cell_type": "code",
   "execution_count": 9,
   "metadata": {},
   "outputs": [],
   "source": [
    "def get_optimum_n_clusters(data):\n",
    "  n_clusters_candidates = [3,4,5,6,7,8,9,10,12,15,20]\n",
    "  parameter_grid = ParameterGrid({'n_clusters': n_clusters_candidates})\n",
    "\n",
    "  kmeans_model = KMeans() \n",
    "  silhouette_scores = []\n",
    "  best_score = -1\n",
    "\n",
    "  for p in parameter_grid:\n",
    "    kmeans_model.set_params(**p)\n",
    "    kmeans_model.fit(data)\n",
    "\n",
    "    ss = metrics.silhouette_score(data, kmeans_model.labels_)\n",
    "    silhouette_scores += [ss]\n",
    "\n",
    "    if ss > best_score:\n",
    "      best_score = ss\n",
    "      best_grid = p\n",
    "\n",
    "  return best_grid['n_clusters']\n",
    "\n",
    "optimum_clusters_19 = get_optimum_n_clusters(pca_19_df)\n",
    "optimum_clusters_21 = get_optimum_n_clusters(pca_21_df)"
   ]
  },
  {
   "cell_type": "markdown",
   "metadata": {},
   "source": [
    "Applying K-means "
   ]
  },
  {
   "cell_type": "code",
   "execution_count": 10,
   "metadata": {},
   "outputs": [
    {
     "data": {
      "text/plain": [
       "KMeans(n_clusters=3)"
      ]
     },
     "execution_count": 10,
     "metadata": {},
     "output_type": "execute_result"
    }
   ],
   "source": [
    "# Applyting k means to 2019 data \n",
    "kmeans_19 = KMeans(n_clusters=optimum_clusters_19)\n",
    "kmeans_19.fit(pca_19_df)\n",
    "\n",
    "#Applying k means to 2021 data \n",
    "kmeans_21 = KMeans(n_clusters=optimum_clusters_21)\n",
    "kmeans_21.fit(pca_21_df)"
   ]
  },
  {
   "cell_type": "markdown",
   "metadata": {},
   "source": [
    "Adding K-means labels to df_19 and df_21 for visualizations "
   ]
  },
  {
   "cell_type": "code",
   "execution_count": 28,
   "metadata": {},
   "outputs": [],
   "source": [
    "df_19.loc[:, 'cluster_labels'] = kmeans_19.labels_\n",
    "df_21.loc[:, 'cluster_labels'] = kmeans_21.labels_\n",
    "df_19.loc[:, 'pc1'] = pca_19_df['principal component 1']\n",
    "df_19.loc[:, 'pc2'] = pca_19_df['principal component 2']\n",
    "df_21.loc[:, 'pc1'] = pca_21_df['principal component 1']\n",
    "df_21.loc[:, 'pc2'] = pca_21_df['principal component 2']\n"
   ]
  },
  {
   "cell_type": "code",
   "execution_count": 29,
   "metadata": {},
   "outputs": [
    {
     "data": {
      "text/html": [
       "<div>\n",
       "<style scoped>\n",
       "    .dataframe tbody tr th:only-of-type {\n",
       "        vertical-align: middle;\n",
       "    }\n",
       "\n",
       "    .dataframe tbody tr th {\n",
       "        vertical-align: top;\n",
       "    }\n",
       "\n",
       "    .dataframe thead th {\n",
       "        text-align: right;\n",
       "    }\n",
       "</style>\n",
       "<table border=\"1\" class=\"dataframe\">\n",
       "  <thead>\n",
       "    <tr style=\"text-align: right;\">\n",
       "      <th></th>\n",
       "      <th>TUCASEID</th>\n",
       "      <th>GEMETSTA</th>\n",
       "      <th>GTMETSTA</th>\n",
       "      <th>PEEDUCA</th>\n",
       "      <th>PEHSPNON</th>\n",
       "      <th>PTDTRACE</th>\n",
       "      <th>TEAGE</th>\n",
       "      <th>TELFS</th>\n",
       "      <th>TEMJOT</th>\n",
       "      <th>TESCHENR</th>\n",
       "      <th>...</th>\n",
       "      <th>t12</th>\n",
       "      <th>t13</th>\n",
       "      <th>t14</th>\n",
       "      <th>t15</th>\n",
       "      <th>t16</th>\n",
       "      <th>t18</th>\n",
       "      <th>t50</th>\n",
       "      <th>cluster_labels</th>\n",
       "      <th>pc1</th>\n",
       "      <th>pc2</th>\n",
       "    </tr>\n",
       "  </thead>\n",
       "  <tbody>\n",
       "    <tr>\n",
       "      <th>0</th>\n",
       "      <td>20190101190022</td>\n",
       "      <td>-1</td>\n",
       "      <td>1</td>\n",
       "      <td>40</td>\n",
       "      <td>2</td>\n",
       "      <td>2</td>\n",
       "      <td>85</td>\n",
       "      <td>5</td>\n",
       "      <td>-1</td>\n",
       "      <td>-1</td>\n",
       "      <td>...</td>\n",
       "      <td>420</td>\n",
       "      <td>0</td>\n",
       "      <td>240</td>\n",
       "      <td>0</td>\n",
       "      <td>0</td>\n",
       "      <td>60</td>\n",
       "      <td>0</td>\n",
       "      <td>2</td>\n",
       "      <td>-188.953601</td>\n",
       "      <td>18.203565</td>\n",
       "    </tr>\n",
       "    <tr>\n",
       "      <th>1</th>\n",
       "      <td>20190101190031</td>\n",
       "      <td>-1</td>\n",
       "      <td>1</td>\n",
       "      <td>37</td>\n",
       "      <td>1</td>\n",
       "      <td>1</td>\n",
       "      <td>25</td>\n",
       "      <td>1</td>\n",
       "      <td>2</td>\n",
       "      <td>2</td>\n",
       "      <td>...</td>\n",
       "      <td>877</td>\n",
       "      <td>0</td>\n",
       "      <td>0</td>\n",
       "      <td>0</td>\n",
       "      <td>0</td>\n",
       "      <td>0</td>\n",
       "      <td>0</td>\n",
       "      <td>2</td>\n",
       "      <td>-462.199758</td>\n",
       "      <td>386.719579</td>\n",
       "    </tr>\n",
       "    <tr>\n",
       "      <th>2</th>\n",
       "      <td>20190101190057</td>\n",
       "      <td>-1</td>\n",
       "      <td>1</td>\n",
       "      <td>40</td>\n",
       "      <td>1</td>\n",
       "      <td>1</td>\n",
       "      <td>20</td>\n",
       "      <td>1</td>\n",
       "      <td>2</td>\n",
       "      <td>2</td>\n",
       "      <td>...</td>\n",
       "      <td>300</td>\n",
       "      <td>0</td>\n",
       "      <td>0</td>\n",
       "      <td>0</td>\n",
       "      <td>10</td>\n",
       "      <td>0</td>\n",
       "      <td>0</td>\n",
       "      <td>1</td>\n",
       "      <td>183.803379</td>\n",
       "      <td>121.937684</td>\n",
       "    </tr>\n",
       "    <tr>\n",
       "      <th>3</th>\n",
       "      <td>20190101190107</td>\n",
       "      <td>-1</td>\n",
       "      <td>1</td>\n",
       "      <td>42</td>\n",
       "      <td>1</td>\n",
       "      <td>1</td>\n",
       "      <td>61</td>\n",
       "      <td>4</td>\n",
       "      <td>-1</td>\n",
       "      <td>-1</td>\n",
       "      <td>...</td>\n",
       "      <td>100</td>\n",
       "      <td>0</td>\n",
       "      <td>0</td>\n",
       "      <td>0</td>\n",
       "      <td>0</td>\n",
       "      <td>187</td>\n",
       "      <td>0</td>\n",
       "      <td>0</td>\n",
       "      <td>50.718086</td>\n",
       "      <td>-195.398833</td>\n",
       "    </tr>\n",
       "    <tr>\n",
       "      <th>4</th>\n",
       "      <td>20190101190555</td>\n",
       "      <td>-1</td>\n",
       "      <td>2</td>\n",
       "      <td>43</td>\n",
       "      <td>2</td>\n",
       "      <td>1</td>\n",
       "      <td>34</td>\n",
       "      <td>1</td>\n",
       "      <td>2</td>\n",
       "      <td>2</td>\n",
       "      <td>...</td>\n",
       "      <td>580</td>\n",
       "      <td>0</td>\n",
       "      <td>0</td>\n",
       "      <td>0</td>\n",
       "      <td>0</td>\n",
       "      <td>50</td>\n",
       "      <td>0</td>\n",
       "      <td>2</td>\n",
       "      <td>-208.311943</td>\n",
       "      <td>223.260828</td>\n",
       "    </tr>\n",
       "    <tr>\n",
       "      <th>...</th>\n",
       "      <td>...</td>\n",
       "      <td>...</td>\n",
       "      <td>...</td>\n",
       "      <td>...</td>\n",
       "      <td>...</td>\n",
       "      <td>...</td>\n",
       "      <td>...</td>\n",
       "      <td>...</td>\n",
       "      <td>...</td>\n",
       "      <td>...</td>\n",
       "      <td>...</td>\n",
       "      <td>...</td>\n",
       "      <td>...</td>\n",
       "      <td>...</td>\n",
       "      <td>...</td>\n",
       "      <td>...</td>\n",
       "      <td>...</td>\n",
       "      <td>...</td>\n",
       "      <td>...</td>\n",
       "      <td>...</td>\n",
       "      <td>...</td>\n",
       "    </tr>\n",
       "    <tr>\n",
       "      <th>9430</th>\n",
       "      <td>20191212192229</td>\n",
       "      <td>-1</td>\n",
       "      <td>1</td>\n",
       "      <td>41</td>\n",
       "      <td>2</td>\n",
       "      <td>1</td>\n",
       "      <td>66</td>\n",
       "      <td>1</td>\n",
       "      <td>2</td>\n",
       "      <td>-1</td>\n",
       "      <td>...</td>\n",
       "      <td>365</td>\n",
       "      <td>0</td>\n",
       "      <td>0</td>\n",
       "      <td>0</td>\n",
       "      <td>10</td>\n",
       "      <td>0</td>\n",
       "      <td>85</td>\n",
       "      <td>0</td>\n",
       "      <td>-174.369710</td>\n",
       "      <td>-115.346519</td>\n",
       "    </tr>\n",
       "    <tr>\n",
       "      <th>9431</th>\n",
       "      <td>20191212192255</td>\n",
       "      <td>-1</td>\n",
       "      <td>2</td>\n",
       "      <td>43</td>\n",
       "      <td>2</td>\n",
       "      <td>1</td>\n",
       "      <td>41</td>\n",
       "      <td>1</td>\n",
       "      <td>2</td>\n",
       "      <td>2</td>\n",
       "      <td>...</td>\n",
       "      <td>425</td>\n",
       "      <td>0</td>\n",
       "      <td>0</td>\n",
       "      <td>0</td>\n",
       "      <td>0</td>\n",
       "      <td>100</td>\n",
       "      <td>0</td>\n",
       "      <td>2</td>\n",
       "      <td>-198.976145</td>\n",
       "      <td>-29.336765</td>\n",
       "    </tr>\n",
       "    <tr>\n",
       "      <th>9432</th>\n",
       "      <td>20191212192256</td>\n",
       "      <td>-1</td>\n",
       "      <td>1</td>\n",
       "      <td>43</td>\n",
       "      <td>2</td>\n",
       "      <td>1</td>\n",
       "      <td>75</td>\n",
       "      <td>1</td>\n",
       "      <td>2</td>\n",
       "      <td>-1</td>\n",
       "      <td>...</td>\n",
       "      <td>200</td>\n",
       "      <td>0</td>\n",
       "      <td>0</td>\n",
       "      <td>0</td>\n",
       "      <td>0</td>\n",
       "      <td>145</td>\n",
       "      <td>0</td>\n",
       "      <td>0</td>\n",
       "      <td>-22.578344</td>\n",
       "      <td>-130.283560</td>\n",
       "    </tr>\n",
       "    <tr>\n",
       "      <th>9433</th>\n",
       "      <td>20191212192265</td>\n",
       "      <td>-1</td>\n",
       "      <td>1</td>\n",
       "      <td>44</td>\n",
       "      <td>2</td>\n",
       "      <td>1</td>\n",
       "      <td>56</td>\n",
       "      <td>1</td>\n",
       "      <td>2</td>\n",
       "      <td>-1</td>\n",
       "      <td>...</td>\n",
       "      <td>110</td>\n",
       "      <td>0</td>\n",
       "      <td>0</td>\n",
       "      <td>0</td>\n",
       "      <td>0</td>\n",
       "      <td>105</td>\n",
       "      <td>0</td>\n",
       "      <td>1</td>\n",
       "      <td>382.125821</td>\n",
       "      <td>28.195906</td>\n",
       "    </tr>\n",
       "    <tr>\n",
       "      <th>9434</th>\n",
       "      <td>20191212192270</td>\n",
       "      <td>-1</td>\n",
       "      <td>1</td>\n",
       "      <td>42</td>\n",
       "      <td>2</td>\n",
       "      <td>1</td>\n",
       "      <td>45</td>\n",
       "      <td>1</td>\n",
       "      <td>2</td>\n",
       "      <td>2</td>\n",
       "      <td>...</td>\n",
       "      <td>465</td>\n",
       "      <td>0</td>\n",
       "      <td>58</td>\n",
       "      <td>0</td>\n",
       "      <td>0</td>\n",
       "      <td>64</td>\n",
       "      <td>0</td>\n",
       "      <td>2</td>\n",
       "      <td>-215.291226</td>\n",
       "      <td>19.015473</td>\n",
       "    </tr>\n",
       "  </tbody>\n",
       "</table>\n",
       "<p>9435 rows × 46 columns</p>\n",
       "</div>"
      ],
      "text/plain": [
       "            TUCASEID  GEMETSTA  GTMETSTA  PEEDUCA  PEHSPNON  PTDTRACE  TEAGE  \\\n",
       "0     20190101190022        -1         1       40         2         2     85   \n",
       "1     20190101190031        -1         1       37         1         1     25   \n",
       "2     20190101190057        -1         1       40         1         1     20   \n",
       "3     20190101190107        -1         1       42         1         1     61   \n",
       "4     20190101190555        -1         2       43         2         1     34   \n",
       "...              ...       ...       ...      ...       ...       ...    ...   \n",
       "9430  20191212192229        -1         1       41         2         1     66   \n",
       "9431  20191212192255        -1         2       43         2         1     41   \n",
       "9432  20191212192256        -1         1       43         2         1     75   \n",
       "9433  20191212192265        -1         1       44         2         1     56   \n",
       "9434  20191212192270        -1         1       42         2         1     45   \n",
       "\n",
       "      TELFS  TEMJOT  TESCHENR  ...  t12  t13  t14  t15  t16  t18  t50  \\\n",
       "0         5      -1        -1  ...  420    0  240    0    0   60    0   \n",
       "1         1       2         2  ...  877    0    0    0    0    0    0   \n",
       "2         1       2         2  ...  300    0    0    0   10    0    0   \n",
       "3         4      -1        -1  ...  100    0    0    0    0  187    0   \n",
       "4         1       2         2  ...  580    0    0    0    0   50    0   \n",
       "...     ...     ...       ...  ...  ...  ...  ...  ...  ...  ...  ...   \n",
       "9430      1       2        -1  ...  365    0    0    0   10    0   85   \n",
       "9431      1       2         2  ...  425    0    0    0    0  100    0   \n",
       "9432      1       2        -1  ...  200    0    0    0    0  145    0   \n",
       "9433      1       2        -1  ...  110    0    0    0    0  105    0   \n",
       "9434      1       2         2  ...  465    0   58    0    0   64    0   \n",
       "\n",
       "      cluster_labels         pc1         pc2  \n",
       "0                  2 -188.953601   18.203565  \n",
       "1                  2 -462.199758  386.719579  \n",
       "2                  1  183.803379  121.937684  \n",
       "3                  0   50.718086 -195.398833  \n",
       "4                  2 -208.311943  223.260828  \n",
       "...              ...         ...         ...  \n",
       "9430               0 -174.369710 -115.346519  \n",
       "9431               2 -198.976145  -29.336765  \n",
       "9432               0  -22.578344 -130.283560  \n",
       "9433               1  382.125821   28.195906  \n",
       "9434               2 -215.291226   19.015473  \n",
       "\n",
       "[9435 rows x 46 columns]"
      ]
     },
     "execution_count": 29,
     "metadata": {},
     "output_type": "execute_result"
    }
   ],
   "source": [
    "df_19"
   ]
  },
  {
   "cell_type": "code",
   "execution_count": 13,
   "metadata": {},
   "outputs": [
    {
     "data": {
      "image/png": "[encoded data removed]",
      "text/plain": [
       "<Figure size 432x288 with 1 Axes>"
      ]
     },
     "metadata": {
      "needs_background": "light"
     },
     "output_type": "display_data"
    }
   ],
   "source": [
    "# Draw voronoi 2d\n",
    "from scipy.spatial import Voronoi, voronoi_plot_2d\n",
    "import matplotlib.pyplot as plt\n",
    "\n",
    "centers_19 = kmeans_19.cluster_centers_\n",
    "plt.scatter(centers_19[:,0],centers_19[:,1], marker='s', s=100)\n",
    "\n",
    "\n",
    "vor = Voronoi(centers_19)\n",
    "fig = voronoi_plot_2d(vor,plt.gca())\n",
    "\n",
    "plt.show()"
   ]
  },
  {
   "cell_type": "markdown",
   "metadata": {},
   "source": [
    "<h2> cluster plot for 2019 t05 agains t12 </h2>"
   ]
  },
  {
   "cell_type": "code",
   "execution_count": 40,
   "metadata": {},
   "outputs": [
    {
     "data": {
      "text/plain": [
       "<matplotlib.collections.PathCollection at 0x297e017f0>"
      ]
     },
     "execution_count": 40,
     "metadata": {},
     "output_type": "execute_result"
    },
    {
     "data": {
      "image/png": "[encoded data removed]",
      "text/plain": [
       "<Figure size 432x288 with 1 Axes>"
      ]
     },
     "metadata": {
      "needs_background": "light"
     },
     "output_type": "display_data"
    }
   ],
   "source": [
    "plt.cla\n",
    "cluster0 = df_19[df_19['cluster_labels']==0]\n",
    "cluster1 = df_19[df_19['cluster_labels']==1]\n",
    "cluster2 = df_19[df_19['cluster_labels']==2]\n",
    "# plt.scatter(cluster0['t01'],cluster0['t02'],c='r')\n",
    "# plt.scatter(cluster1['t01'],cluster1['t02'],c='g')\n",
    "# plt.scatter(cluster2['t01'],cluster2['t02'],c='b')\n",
    "\n",
    "plt.scatter(cluster0['t05'],cluster0['t12'],c='r',s=0.5,alpha=0.5)\n",
    "plt.scatter(cluster1['t05'],cluster1['t12'],c='g',s=0.5,alpha=0.5)\n",
    "plt.scatter(cluster2['t05'],cluster2['t12'],c='b',s=0.5,alpha=0.5)\n",
    "\n",
    "# plt.scatter(cluster0['pc1'],cluster0['pc2'],c='r')\n",
    "# plt.scatter(cluster1['pc1'],cluster1['pc2'],c='g')\n",
    "# plt.scatter(cluster2['pc1'],cluster2['pc2'],c='b')"
   ]
  },
  {
   "cell_type": "markdown",
   "metadata": {},
   "source": [
    "<h2> cluster plot for 2021 t05 agains t12 </h2>"
   ]
  },
  {
   "cell_type": "code",
   "execution_count": 39,
   "metadata": {},
   "outputs": [
    {
     "data": {
      "text/plain": [
       "<matplotlib.collections.PathCollection at 0x297d8dca0>"
      ]
     },
     "execution_count": 39,
     "metadata": {},
     "output_type": "execute_result"
    },
    {
     "data": {
      "image/png": "[encoded data removed]",
      "text/plain": [
       "<Figure size 432x288 with 1 Axes>"
      ]
     },
     "metadata": {
      "needs_background": "light"
     },
     "output_type": "display_data"
    }
   ],
   "source": [
    "plt.cla\n",
    "cluster0 = df_21[df_21['cluster_labels']==0]\n",
    "cluster1 = df_21[df_21['cluster_labels']==1]\n",
    "cluster2 = df_21[df_21['cluster_labels']==2]\n",
    "# plt.scatter(cluster0['t01'],cluster0['t02'],c='r')\n",
    "# plt.scatter(cluster1['t01'],cluster1['t02'],c='g')\n",
    "# plt.scatter(cluster2['t01'],cluster2['t02'],c='b')\n",
    "\n",
    "plt.scatter(cluster0['t05'],cluster0['t12'],c='r',s=0.5,alpha=0.5)\n",
    "plt.scatter(cluster1['t05'],cluster1['t12'],c='g',s=0.5,alpha=0.5)\n",
    "plt.scatter(cluster2['t05'],cluster2['t12'],c='b',s=0.5,alpha=0.5)\n",
    "\n",
    "# plt.scatter(cluster0['pc1'],cluster0['pc2'],c='r')\n",
    "# plt.scatter(cluster1['pc1'],cluster1['pc2'],c='g')\n",
    "# plt.scatter(cluster2['pc1'],cluster2['pc2'],c='b')"
   ]
  },
  {
   "cell_type": "markdown",
   "metadata": {},
   "source": [
    "<h1> 2019 per cluster analysis </h1>"
   ]
  },
  {
   "cell_type": "code",
   "execution_count": 44,
   "metadata": {},
   "outputs": [
    {
     "data": {
      "text/plain": [
       "<matplotlib.collections.PathCollection at 0x297fb62e0>"
      ]
     },
     "execution_count": 44,
     "metadata": {},
     "output_type": "execute_result"
    },
    {
     "data": {
      "image/png": "[encoded data removed]",
      "text/plain": [
       "<Figure size 432x288 with 1 Axes>"
      ]
     },
     "metadata": {
      "needs_background": "light"
     },
     "output_type": "display_data"
    }
   ],
   "source": [
    "temp_df = df_19[df_19['t05']<5]\n",
    "\n",
    "plt.cla\n",
    "cluster0 = temp_df[temp_df['cluster_labels']==0]\n",
    "cluster2 = temp_df[temp_df['cluster_labels']==2]\n",
    "\n",
    "plt.scatter(cluster0['t02'],cluster0['t12'],c='r',s=0.5,alpha=0.5)\n",
    "plt.scatter(cluster2['t02'],cluster2['t12'],c='b',s=0.5,alpha=0.5)\n"
   ]
  },
  {
   "cell_type": "code",
   "execution_count": 58,
   "metadata": {},
   "outputs": [
    {
     "data": {
      "image/png": "[encoded data removed]",
      "text/plain": [
       "<Figure size 432x288 with 1 Axes>"
      ]
     },
     "metadata": {
      "needs_background": "light"
     },
     "output_type": "display_data"
    }
   ],
   "source": [
    "plt.cla\n",
    "\n",
    "labels=['C0','C1','C2']\n",
    "\n",
    "cluster0 = df_19[df_19['cluster_labels']==0]\n",
    "cluster1 = df_19[df_19['cluster_labels']==1]\n",
    "cluster2 = df_19[df_19['cluster_labels']==2]\n",
    "\n",
    "men_cls0 = cluster0[cluster0['TESEX']==1]\n",
    "women_cls0 = cluster0[cluster0['TESEX']==2]\n",
    "\n",
    "men_cls1 = cluster1[cluster1['TESEX']==1]\n",
    "women_cls1 = cluster1[cluster1['TESEX']==2]\n",
    "\n",
    "men_cls2 = cluster2[cluster2['TESEX']==1]\n",
    "women_cls2 = cluster2[cluster2['TESEX']==2]\n",
    "\n",
    "num_men = [len(men_cls0),len(men_cls1),len(men_cls2)]\n",
    "num_woman = [len(women_cls0),len(women_cls1),len(women_cls2)]\n",
    "\n",
    "\n",
    "\n",
    "\n",
    "x = np.arange(len(labels))\n",
    "width = 0.35\n",
    "\n",
    "fig,ax = plt.subplots()\n",
    "rects1 = ax.bar(x-width/2, num_men, width, label='Men')\n",
    "rects2 = ax.bar(x+width/2, num_woman, width, label='Woman')\n",
    "ax.set_xticks(x,labels)\n",
    "ax.legend()\n",
    "fig.tight_layout()"
   ]
  },
  {
   "cell_type": "code",
   "execution_count": 62,
   "metadata": {},
   "outputs": [
    {
     "data": {
      "image/png": "[encoded data removed]",
      "text/plain": [
       "<Figure size 432x288 with 1 Axes>"
      ]
     },
     "metadata": {
      "needs_background": "light"
     },
     "output_type": "display_data"
    }
   ],
   "source": [
    "plt.cla\n",
    "\n",
    "labels=['C0','C1','C2']\n",
    "\n",
    "cluster0 = df_19[df_19['cluster_labels']==0]\n",
    "cluster1 = df_19[df_19['cluster_labels']==1]\n",
    "cluster2 = df_19[df_19['cluster_labels']==2]\n",
    "\n",
    "a0_20_cls0 = cluster0[cluster0['TEAGE']<=20]\n",
    "a20_40_cls0 = cluster0.loc[(cluster0['TEAGE']>20) & (cluster0['TEAGE']<=40)]\n",
    "a40_60_cls0 = cluster0.loc[(cluster0['TEAGE']>40) & (cluster0['TEAGE'] <=60)]\n",
    "a60_cls0 = cluster0[cluster0['TEAGE']>=60]\n",
    "\n",
    "a0_20_cls1 = cluster1[cluster1['TEAGE']<=20]\n",
    "a20_40_cls1 = cluster1.loc[(cluster1['TEAGE']>20) & (cluster1['TEAGE']<=40)]\n",
    "a40_60_cls1 = cluster1.loc[(cluster1['TEAGE']>40) & (cluster1['TEAGE'] <=60)]\n",
    "a60_cls1 = cluster1[cluster1['TEAGE']>=60]\n",
    "\n",
    "a0_20_cls2 = cluster2[cluster2['TEAGE']<=20]\n",
    "a20_40_cls2 = cluster2.loc[(cluster2['TEAGE']>20) & (cluster2['TEAGE']<=40)]\n",
    "a40_60_cls2 = cluster2.loc[(cluster2['TEAGE']>40) & (cluster2['TEAGE'] <=60)]\n",
    "a60_cls2 = cluster2[cluster2['TEAGE']>=60]\n",
    "\n",
    "list_1 = [len(a0_20_cls0),len(a0_20_cls1),len(a0_20_cls2)]\n",
    "list_2 = [len(a20_40_cls0),len(a20_40_cls1),len(a20_40_cls2)]\n",
    "list_3 = [len(a40_60_cls0),len(a40_60_cls1),len(a40_60_cls2)]\n",
    "list_4 = [len(a60_cls0),len(a60_cls1),len(a60_cls2)]\n",
    "\n",
    "\n",
    "x = np.arange(len(labels))\n",
    "width = 0.2\n",
    "\n",
    "fig,ax = plt.subplots()\n",
    "rects1 = ax.bar(x-width*3/2, list_1, width, label='0-20')\n",
    "rects2 = ax.bar(x-width/2, list_2, width, label='20-40')\n",
    "rects3 = ax.bar(x+width/2,list_3, width, label='40-60')\n",
    "rects4 = ax.bar(x+3*width/2,list_4, width, label='>60')\n",
    "ax.set_xticks(x,labels)\n",
    "ax.legend()\n",
    "fig.tight_layout()"
   ]
  },
  {
   "cell_type": "code",
   "execution_count": 67,
   "metadata": {},
   "outputs": [
    {
     "data": {
      "text/plain": [
       "<matplotlib.collections.PathCollection at 0x29a5bf5e0>"
      ]
     },
     "execution_count": 67,
     "metadata": {},
     "output_type": "execute_result"
    },
    {
     "data": {
      "image/png": "[encoded data removed]",
      "text/plain": [
       "<Figure size 432x288 with 1 Axes>"
      ]
     },
     "metadata": {
      "needs_background": "light"
     },
     "output_type": "display_data"
    }
   ],
   "source": [
    "plt.cla\n",
    "cluster0 = df_19[df_19['cluster_labels']==0]\n",
    "cluster1 = df_19[df_19['cluster_labels']==1]\n",
    "cluster2 = df_19[df_19['cluster_labels']==2]\n",
    "# plt.scatter(cluster0['t01'],cluster0['t02'],c='r')\n",
    "# plt.scatter(cluster1['t01'],cluster1['t02'],c='g')\n",
    "# plt.scatter(cluster2['t01'],cluster2['t02'],c='b')\n",
    "\n",
    "plt.scatter(cluster0['t02'],cluster0['t06'],c='r',s=0.5,alpha=0.5)\n",
    "plt.scatter(cluster1['t02'],cluster1['t06'],c='g',s=0.5,alpha=0.5)\n",
    "plt.scatter(cluster2['t02'],cluster2['t06'],c='b',s=0.5,alpha=0.5)\n",
    "\n",
    "# plt.scatter(cluster0['pc1'],cluster0['pc2'],c='r')\n",
    "# plt.scatter(cluster1['pc1'],cluster1['pc2'],c='g')\n",
    "# plt.scatter(cluster2['pc1'],cluster2['pc2'],c='b')"
   ]
  },
  {
   "cell_type": "code",
   "execution_count": 74,
   "metadata": {},
   "outputs": [
    {
     "data": {
      "image/png": "[encoded data removed]",
      "text/plain": [
       "<Figure size 432x288 with 1 Axes>"
      ]
     },
     "metadata": {
      "needs_background": "light"
     },
     "output_type": "display_data"
    }
   ],
   "source": [
    "plt.cla\n",
    "\n",
    "labels=['C0','C1','C2']\n",
    "\n",
    "cluster0 = df_19[df_19['cluster_labels']==0]\n",
    "cluster1 = df_19[df_19['cluster_labels']==1]\n",
    "cluster2 = df_19[df_19['cluster_labels']==2]\n",
    "\n",
    "yes_0 = cluster0[cluster0['TESCHENR']==1]\n",
    "no_0 = cluster0[cluster0['TESCHENR']==2]\n",
    "blk_0 = cluster0[cluster0['TESCHENR']==-1]\n",
    "\n",
    "yes_1 = cluster1[cluster1['TESCHENR']==1]\n",
    "no_1 = cluster1[cluster1['TESCHENR']==2]\n",
    "blk_1 = cluster1[cluster1['TESCHENR']==-1]\n",
    "\n",
    "yes_2 = cluster2[cluster2['TESCHENR']==1]\n",
    "no_2 = cluster2[cluster2['TESCHENR']==2]\n",
    "blk_2 = cluster2[cluster2['TESCHENR']==-1]\n",
    "\n",
    "yesS = [len(yes_0),len(yes_1),len(yes_2)]\n",
    "noS = [len(no_0),len(no_1),len(no_2)]\n",
    "blkS = [len(blk_0),len(blk_1),len(blk_2)]\n",
    "\n",
    "\n",
    "\n",
    "\n",
    "x = np.arange(len(labels))\n",
    "width = 0.2\n",
    "\n",
    "fig,ax = plt.subplots()\n",
    "rects1 = ax.bar(x-width, yesS, width, label='Enrolled')\n",
    "rects2 = ax.bar(x, noS, width, label='Not enrolled')\n",
    "rects3 = ax.bar(x+width, blkS, width, label='blank')\n",
    "ax.set_xticks(x,labels)\n",
    "ax.legend()\n",
    "fig.tight_layout()"
   ]
  },
  {
   "cell_type": "code",
   "execution_count": 75,
   "metadata": {},
   "outputs": [
    {
     "data": {
      "text/plain": [
       "2179"
      ]
     },
     "execution_count": 75,
     "metadata": {},
     "output_type": "execute_result"
    }
   ],
   "source": [
    "len(cluster0.loc[(cluster0['TEAGE']>=49)])"
   ]
  },
  {
   "cell_type": "code",
   "execution_count": null,
   "metadata": {},
   "outputs": [],
   "source": []
  }
 ],
 "metadata": {
  "kernelspec": {
   "display_name": "Python 3.9.12 ('misc')",
   "language": "python",
   "name": "python3"
  },
  "language_info": {
   "codemirror_mode": {
    "name": "ipython",
    "version": 3
   },
   "file_extension": ".py",
   "mimetype": "text/x-python",
   "name": "python",
   "nbconvert_exporter": "python",
   "pygments_lexer": "ipython3",
   "version": "3.9.12"
  },
  "orig_nbformat": 4,
  "vscode": {
   "interpreter": {
    "hash": "7249968e535cdc2c7c6beca6a6497aef5943e1cb7d6e1454e2303dd0759fb3e1"
   }
  }
 },
 "nbformat": 4,
 "nbformat_minor": 2
}
